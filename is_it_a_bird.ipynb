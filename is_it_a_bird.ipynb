{
  "nbformat": 4,
  "nbformat_minor": 0,
  "metadata": {
    "colab": {
      "provenance": [],
      "authorship_tag": "ABX9TyOllKzUiPjrp0kPrw2hoT4W",
      "include_colab_link": true
    },
    "kernelspec": {
      "name": "python3",
      "display_name": "Python 3"
    },
    "language_info": {
      "name": "python"
    }
  },
  "cells": [
    {
      "cell_type": "markdown",
      "metadata": {
        "id": "view-in-github",
        "colab_type": "text"
      },
      "source": [
        "<a href=\"https://colab.research.google.com/github/balananujith/mulearn-ai-isitabird/blob/master/is_it_a_bird.ipynb\" target=\"_parent\"><img src=\"https://colab.research.google.com/assets/colab-badge.svg\" alt=\"Open In Colab\"/></a>"
      ]
    },
    {
      "cell_type": "code",
      "execution_count": 2,
      "metadata": {
        "colab": {
          "base_uri": "https://localhost:8080/"
        },
        "id": "au4oG4G3-ydE",
        "outputId": "6bd10949-d22c-457b-fdbc-b70286e627ab"
      },
      "outputs": [
        {
          "output_type": "stream",
          "name": "stdout",
          "text": [
            "Collecting duckduckgo_search\n",
            "  Downloading duckduckgo_search-6.1.7-py3-none-any.whl (24 kB)\n",
            "Requirement already satisfied: click>=8.1.7 in /usr/local/lib/python3.10/dist-packages (from duckduckgo_search) (8.1.7)\n",
            "Collecting pyreqwest-impersonate>=0.4.8 (from duckduckgo_search)\n",
            "  Downloading pyreqwest_impersonate-0.4.8-cp310-cp310-manylinux_2_17_x86_64.manylinux2014_x86_64.whl (2.7 MB)\n",
            "\u001b[2K     \u001b[90m━━━━━━━━━━━━━━━━━━━━━━━━━━━━━━━━━━━━━━━━\u001b[0m \u001b[32m2.7/2.7 MB\u001b[0m \u001b[31m12.9 MB/s\u001b[0m eta \u001b[36m0:00:00\u001b[0m\n",
            "\u001b[?25hCollecting orjson>=3.10.5 (from duckduckgo_search)\n",
            "  Downloading orjson-3.10.5-cp310-cp310-manylinux_2_17_x86_64.manylinux2014_x86_64.whl (144 kB)\n",
            "\u001b[2K     \u001b[90m━━━━━━━━━━━━━━━━━━━━━━━━━━━━━━━━━━━━━━━━\u001b[0m \u001b[32m145.0/145.0 kB\u001b[0m \u001b[31m12.3 MB/s\u001b[0m eta \u001b[36m0:00:00\u001b[0m\n",
            "\u001b[?25hInstalling collected packages: pyreqwest-impersonate, orjson, duckduckgo_search\n",
            "Successfully installed duckduckgo_search-6.1.7 orjson-3.10.5 pyreqwest-impersonate-0.4.8\n"
          ]
        }
      ],
      "source": [
        "# Import necessary libraries from fastai for computer vision tasks\n",
        "from fastai.vision.all import *\n",
        "\n",
        "# Import the Path class from pathlib for filesystem path manipulations\n",
        "from pathlib import Path\n",
        "\n",
        "# Import sleep function from time to introduce delays in the code execution\n",
        "from time import sleep\n",
        "\n",
        "# Import download_url from fastdownload to facilitate downloading files\n",
        "from fastdownload import download_url\n",
        "\n",
        "# Install the required package for performing searches using DuckDuckGo\n",
        "!pip install duckduckgo_search\n",
        "\n",
        "# Import the DuckDuckGo search functionality\n",
        "from duckduckgo_search import DDGS\n",
        "\n",
        "# Import utility functions from fastcore for additional functionality\n",
        "from fastcore.all import *\n"
      ]
    },
    {
      "cell_type": "code",
      "source": [
        "def search_images(term, max_images=30):\n",
        "    # Print the search term to the console\n",
        "    print(f\"Searching for '{term}'\")\n",
        "\n",
        "    # Use DuckDuckGo search within a context manager to ensure proper resource management\n",
        "    with DDGS() as ddgs:\n",
        "        # Perform an image search with the given keywords\n",
        "        # This returns a generator which yields dictionaries containing:\n",
        "        # {'title', 'image', 'thumbnail', 'url', 'height', 'width', 'source'}\n",
        "        search_results = ddgs.images(keywords=term)\n",
        "\n",
        "        # Extract the URLs of the images from the search results\n",
        "        # Use a list comprehension to get the 'image' field from each result\n",
        "        # Limit the number of URLs to max_images\n",
        "        image_urls = [next(iter(search_results)).get(\"image\") for _ in range(max_images)]\n",
        "\n",
        "        # Convert the list of image URLs to an L object (a functionally extended list class from fastai)\n",
        "        return L(image_urls)\n"
      ],
      "metadata": {
        "id": "-iQiwFmz-21s"
      },
      "execution_count": 3,
      "outputs": []
    },
    {
      "cell_type": "code",
      "source": [
        "# Define search categories\n",
        "searches = ('forest', 'bird')\n",
        "\n",
        "# Define the main folder path\n",
        "path = Path('bird_or_not')\n",
        "\n",
        "# Loop through each category in the search categories\n",
        "for category in searches:\n",
        "    # Form sub-folder path based on category\n",
        "    dest = path / category\n",
        "\n",
        "    # Create the sub-folder if it doesn't already exist\n",
        "    dest.mkdir(exist_ok=True, parents=True)\n",
        "\n",
        "    # Print message indicating the category being downloaded\n",
        "    print(f\"Downloading images for category: {category}\")\n",
        "\n",
        "    # Download images for the category with specific search terms\n",
        "    download_images(dest, urls=search_images(f'{category} photo'))\n",
        "    sleep(10)  # Pause between searches to avoid overloading the server\n",
        "\n",
        "    download_images(dest, urls=search_images(f'{category} sun photo'))\n",
        "    sleep(10)  # Pause between searches to avoid overloading the server\n",
        "\n",
        "    download_images(dest, urls=search_images(f'{category} shade photo'))\n",
        "    sleep(10)  # Pause between searches to avoid overloading the server\n",
        "\n",
        "    # Resize images in the category sub-folder to a maximum size of 400 pixels\n",
        "    resize_images(path/category, max_size=400, dest=path/category)\n",
        "\n",
        "# Verify downloaded images and identify failed images\n",
        "failed = verify_images(get_image_files(path))\n",
        "\n",
        "# Remove failed images\n",
        "failed.map(Path.unlink)  # Unlink (delete) the failed images\n",
        "\n"
      ],
      "metadata": {
        "colab": {
          "base_uri": "https://localhost:8080/"
        },
        "id": "8eCP3eLH-6v6",
        "outputId": "9797e673-8c49-4656-cfef-ca4d90fb0989"
      },
      "execution_count": 4,
      "outputs": [
        {
          "output_type": "stream",
          "name": "stdout",
          "text": [
            "Downloading images for category: forest\n",
            "Searching for 'forest photo'\n",
            "Searching for 'forest sun photo'\n",
            "Searching for 'forest shade photo'\n",
            "Downloading images for category: bird\n",
            "Searching for 'bird photo'\n",
            "Searching for 'bird sun photo'\n",
            "Searching for 'bird shade photo'\n"
          ]
        },
        {
          "output_type": "execute_result",
          "data": {
            "text/plain": [
              "(#0) []"
            ]
          },
          "metadata": {},
          "execution_count": 4
        }
      ]
    },
    {
      "cell_type": "code",
      "source": [
        "# Prepare data for training\n",
        "dls = DataBlock(\n",
        "    # Define the type of data (image and category for classification)\n",
        "    blocks=(ImageBlock, CategoryBlock),\n",
        "\n",
        "    # Specify how to get the items (images) from the path\n",
        "    get_items=get_image_files,\n",
        "\n",
        "    # Split the data into training and validation sets (80% training, 20% validation)\n",
        "    splitter=RandomSplitter(valid_pct=0.2, seed=42),\n",
        "\n",
        "    # Define how to get the labels (categories) for each item (image)\n",
        "    get_y=parent_label,\n",
        "\n",
        "    # Apply transformation to resize images to 192x192 pixels using the 'squish' method\n",
        "    item_tfms=[Resize(192, method='squish')]\n",
        ").dataloaders(path, bs=32)  # Create dataloaders with batch size of 32\n",
        "\n",
        "# Create and fine-tune the image classification model\n",
        "learn = vision_learner(dls, resnet18, metrics=error_rate)  # Use a pre-trained resnet18 model\n",
        "learn.fine_tune(3)  # Fine-tune the model for 3 epochs\n",
        "\n",
        "# Make a prediction on a new image\n",
        "urls = search_images('forest photos', max_images=1)  # Search for a new image with the term 'forest photos'\n",
        "dest = 'forest.jpg'  # Define the destination path for the downloaded image\n",
        "download_url(urls[0], dest, show_progress=False)  # Download the image without showing progress\n",
        "im = Image.open(dest)  # Open the downloaded image\n",
        "im.to_thumb(256,256)  # Convert the image to a thumbnail of size 256x256 pixels\n",
        "\n",
        "# Predict the class of the new image using the trained model\n",
        "is_bird, _, probs = learn.predict(PILImage.create(\"forest.jpg\"))\n",
        "print(f\"This is a: {is_bird}.\")  # Print the predicted class\n",
        "print(f\"Probability it's a bird: {probs[0]:.4f}\")  # Print the probability that the image is of a bird\n"
      ],
      "metadata": {
        "colab": {
          "base_uri": "https://localhost:8080/",
          "height": 313
        },
        "id": "ei1UAZER_glz",
        "outputId": "08d81f52-46bc-4f91-849d-a894ff3fd072"
      },
      "execution_count": 5,
      "outputs": [
        {
          "output_type": "stream",
          "name": "stderr",
          "text": [
            "Downloading: \"https://download.pytorch.org/models/resnet18-f37072fd.pth\" to /root/.cache/torch/hub/checkpoints/resnet18-f37072fd.pth\n",
            "100%|██████████| 44.7M/44.7M [00:00<00:00, 85.9MB/s]\n"
          ]
        },
        {
          "output_type": "display_data",
          "data": {
            "text/plain": [
              "<IPython.core.display.HTML object>"
            ],
            "text/html": [
              "\n",
              "<style>\n",
              "    /* Turns off some styling */\n",
              "    progress {\n",
              "        /* gets rid of default border in Firefox and Opera. */\n",
              "        border: none;\n",
              "        /* Needs to be in here for Safari polyfill so background images work as expected. */\n",
              "        background-size: auto;\n",
              "    }\n",
              "    progress:not([value]), progress:not([value])::-webkit-progress-bar {\n",
              "        background: repeating-linear-gradient(45deg, #7e7e7e, #7e7e7e 10px, #5c5c5c 10px, #5c5c5c 20px);\n",
              "    }\n",
              "    .progress-bar-interrupted, .progress-bar-interrupted::-webkit-progress-bar {\n",
              "        background: #F44336;\n",
              "    }\n",
              "</style>\n"
            ]
          },
          "metadata": {}
        },
        {
          "output_type": "display_data",
          "data": {
            "text/plain": [
              "<IPython.core.display.HTML object>"
            ],
            "text/html": [
              "<table border=\"1\" class=\"dataframe\">\n",
              "  <thead>\n",
              "    <tr style=\"text-align: left;\">\n",
              "      <th>epoch</th>\n",
              "      <th>train_loss</th>\n",
              "      <th>valid_loss</th>\n",
              "      <th>error_rate</th>\n",
              "      <th>time</th>\n",
              "    </tr>\n",
              "  </thead>\n",
              "  <tbody>\n",
              "    <tr>\n",
              "      <td>0</td>\n",
              "      <td>0.711692</td>\n",
              "      <td>0.008610</td>\n",
              "      <td>0.000000</td>\n",
              "      <td>00:22</td>\n",
              "    </tr>\n",
              "  </tbody>\n",
              "</table>"
            ]
          },
          "metadata": {}
        },
        {
          "output_type": "display_data",
          "data": {
            "text/plain": [
              "<IPython.core.display.HTML object>"
            ],
            "text/html": [
              "\n",
              "<style>\n",
              "    /* Turns off some styling */\n",
              "    progress {\n",
              "        /* gets rid of default border in Firefox and Opera. */\n",
              "        border: none;\n",
              "        /* Needs to be in here for Safari polyfill so background images work as expected. */\n",
              "        background-size: auto;\n",
              "    }\n",
              "    progress:not([value]), progress:not([value])::-webkit-progress-bar {\n",
              "        background: repeating-linear-gradient(45deg, #7e7e7e, #7e7e7e 10px, #5c5c5c 10px, #5c5c5c 20px);\n",
              "    }\n",
              "    .progress-bar-interrupted, .progress-bar-interrupted::-webkit-progress-bar {\n",
              "        background: #F44336;\n",
              "    }\n",
              "</style>\n"
            ]
          },
          "metadata": {}
        },
        {
          "output_type": "display_data",
          "data": {
            "text/plain": [
              "<IPython.core.display.HTML object>"
            ],
            "text/html": [
              "<table border=\"1\" class=\"dataframe\">\n",
              "  <thead>\n",
              "    <tr style=\"text-align: left;\">\n",
              "      <th>epoch</th>\n",
              "      <th>train_loss</th>\n",
              "      <th>valid_loss</th>\n",
              "      <th>error_rate</th>\n",
              "      <th>time</th>\n",
              "    </tr>\n",
              "  </thead>\n",
              "  <tbody>\n",
              "    <tr>\n",
              "      <td>0</td>\n",
              "      <td>0.000742</td>\n",
              "      <td>0.000049</td>\n",
              "      <td>0.000000</td>\n",
              "      <td>00:35</td>\n",
              "    </tr>\n",
              "    <tr>\n",
              "      <td>1</td>\n",
              "      <td>0.000409</td>\n",
              "      <td>0.000000</td>\n",
              "      <td>0.000000</td>\n",
              "      <td>00:33</td>\n",
              "    </tr>\n",
              "    <tr>\n",
              "      <td>2</td>\n",
              "      <td>0.000267</td>\n",
              "      <td>0.000000</td>\n",
              "      <td>0.000000</td>\n",
              "      <td>00:36</td>\n",
              "    </tr>\n",
              "  </tbody>\n",
              "</table>"
            ]
          },
          "metadata": {}
        },
        {
          "output_type": "stream",
          "name": "stdout",
          "text": [
            "Searching for 'forest photos'\n"
          ]
        },
        {
          "output_type": "display_data",
          "data": {
            "text/plain": [
              "<IPython.core.display.HTML object>"
            ],
            "text/html": [
              "\n",
              "<style>\n",
              "    /* Turns off some styling */\n",
              "    progress {\n",
              "        /* gets rid of default border in Firefox and Opera. */\n",
              "        border: none;\n",
              "        /* Needs to be in here for Safari polyfill so background images work as expected. */\n",
              "        background-size: auto;\n",
              "    }\n",
              "    progress:not([value]), progress:not([value])::-webkit-progress-bar {\n",
              "        background: repeating-linear-gradient(45deg, #7e7e7e, #7e7e7e 10px, #5c5c5c 10px, #5c5c5c 20px);\n",
              "    }\n",
              "    .progress-bar-interrupted, .progress-bar-interrupted::-webkit-progress-bar {\n",
              "        background: #F44336;\n",
              "    }\n",
              "</style>\n"
            ]
          },
          "metadata": {}
        },
        {
          "output_type": "display_data",
          "data": {
            "text/plain": [
              "<IPython.core.display.HTML object>"
            ],
            "text/html": []
          },
          "metadata": {}
        },
        {
          "output_type": "stream",
          "name": "stdout",
          "text": [
            "This is a: forest.\n",
            "Probability it's a bird: 0.0000\n"
          ]
        }
      ]
    },
    {
      "cell_type": "code",
      "source": [],
      "metadata": {
        "id": "Vc1Z9eaF_xrK"
      },
      "execution_count": null,
      "outputs": []
    }
  ]
}